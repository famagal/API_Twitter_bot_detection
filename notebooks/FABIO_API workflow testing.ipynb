{
 "cells": [
  {
   "cell_type": "code",
   "execution_count": 1,
   "id": "0564b3dc",
   "metadata": {},
   "outputs": [],
   "source": [
    "%load_ext autoreload\n",
    "%autoreload 2\n",
    "import pandas as pd\n",
    "import numpy as np\n",
    "import requests\n",
    "import gensim\n",
    "import gensim.downloader as api\n",
    "import pickle\n",
    "import joblib"
   ]
  },
  {
   "cell_type": "code",
   "execution_count": 2,
   "id": "dda1df5a",
   "metadata": {},
   "outputs": [],
   "source": [
    "from API_Twitter_bot_detection.api_get_data import *"
   ]
  },
  {
   "cell_type": "code",
   "execution_count": 3,
   "id": "48971430",
   "metadata": {},
   "outputs": [],
   "source": [
    "user = user_data_request('best_in_dumbest')"
   ]
  },
  {
   "cell_type": "code",
   "execution_count": 4,
   "id": "245f75d2",
   "metadata": {},
   "outputs": [],
   "source": [
    "tweets = tweet_data_request(user)"
   ]
  },
  {
   "cell_type": "code",
   "execution_count": 5,
   "id": "7745449e",
   "metadata": {},
   "outputs": [
    {
     "name": "stderr",
     "output_type": "stream",
     "text": [
      "/Users/fabioalves/code/famagal/API_Twitter_bot_detection/API_Twitter_bot_detection/api_get_data.py:144: SettingWithCopyWarning: \n",
      "A value is trying to be set on a copy of a slice from a DataFrame.\n",
      "Try using .loc[row_indexer,col_indexer] = value instead\n",
      "\n",
      "See the caveats in the documentation: https://pandas.pydata.org/pandas-docs/stable/user_guide/indexing.html#returning-a-view-versus-a-copy\n",
      "  tweet_df['lag_hours'] = (pd.to_numeric(\n"
     ]
    }
   ],
   "source": [
    "X_user = user_preprocessing(tweets,user)"
   ]
  },
  {
   "cell_type": "code",
   "execution_count": 2,
   "id": "ae2c7252",
   "metadata": {},
   "outputs": [],
   "source": [
    "word2vec = api.load('glove-twitter-25')"
   ]
  },
  {
   "cell_type": "code",
   "execution_count": 4,
   "id": "a607fdc6",
   "metadata": {},
   "outputs": [
    {
     "data": {
      "text/plain": [
       "['word2vec25.joblib']"
      ]
     },
     "execution_count": 4,
     "metadata": {},
     "output_type": "execute_result"
    }
   ],
   "source": [
    "joblib.dump(word2vec, 'word2vec25.joblib')\n"
   ]
  },
  {
   "cell_type": "code",
   "execution_count": 7,
   "id": "eae8ede1",
   "metadata": {},
   "outputs": [],
   "source": [
    "model1 = joblib.load('../model.joblib')"
   ]
  },
  {
   "cell_type": "code",
   "execution_count": 8,
   "id": "43d2a07a",
   "metadata": {},
   "outputs": [
    {
     "data": {
      "text/plain": [
       "array([0])"
      ]
     },
     "execution_count": 8,
     "metadata": {},
     "output_type": "execute_result"
    }
   ],
   "source": [
    "model1.predict(X_user)"
   ]
  },
  {
   "cell_type": "code",
   "execution_count": 9,
   "id": "3291caa0",
   "metadata": {},
   "outputs": [
    {
     "name": "stderr",
     "output_type": "stream",
     "text": [
      "2021-12-02 13:26:15.036756: I tensorflow/core/platform/cpu_feature_guard.cc:142] This TensorFlow binary is optimized with oneAPI Deep Neural Network Library (oneDNN) to use the following CPU instructions in performance-critical operations:  SSE4.2\n",
      "To enable them in other operations, rebuild TensorFlow with the appropriate compiler flags.\n"
     ]
    }
   ],
   "source": [
    "from tensorflow.keras.models import load_model\n",
    "\n",
    "model2 = load_model('../RNN_BIG.h5')\n"
   ]
  },
  {
   "cell_type": "code",
   "execution_count": 10,
   "id": "70361d35",
   "metadata": {},
   "outputs": [
    {
     "name": "stderr",
     "output_type": "stream",
     "text": [
      "2021-12-02 13:26:15.587020: I tensorflow/compiler/mlir/mlir_graph_optimization_pass.cc:185] None of the MLIR Optimization Passes are enabled (registered 2)\n"
     ]
    },
    {
     "data": {
      "text/plain": [
       "array([[0.99919385],\n",
       "       [0.9620005 ],\n",
       "       [0.7389209 ],\n",
       "       [0.77230775],\n",
       "       [0.6231635 ],\n",
       "       [0.97313774],\n",
       "       [0.9052729 ],\n",
       "       [0.998706  ],\n",
       "       [0.91578877],\n",
       "       [0.9464155 ],\n",
       "       [0.9655465 ],\n",
       "       [0.9241624 ],\n",
       "       [0.97198427],\n",
       "       [0.99617064],\n",
       "       [0.9992275 ],\n",
       "       [0.9998965 ],\n",
       "       [0.99948007],\n",
       "       [0.7081012 ],\n",
       "       [0.9993077 ],\n",
       "       [0.9829572 ],\n",
       "       [0.9603046 ],\n",
       "       [0.99901986],\n",
       "       [0.9982511 ],\n",
       "       [0.9996909 ],\n",
       "       [0.9941105 ],\n",
       "       [0.98594403],\n",
       "       [0.7990911 ],\n",
       "       [0.90652376],\n",
       "       [0.90652376],\n",
       "       [0.89222795],\n",
       "       [0.99996567],\n",
       "       [0.96177495],\n",
       "       [0.46477807],\n",
       "       [0.9997755 ],\n",
       "       [0.97681856],\n",
       "       [0.98145306],\n",
       "       [0.9776808 ],\n",
       "       [0.99562943],\n",
       "       [0.99992186],\n",
       "       [0.78913295],\n",
       "       [0.9967856 ],\n",
       "       [0.9995736 ],\n",
       "       [0.96911216],\n",
       "       [0.9810113 ],\n",
       "       [0.999758  ],\n",
       "       [0.9983927 ],\n",
       "       [0.9600299 ],\n",
       "       [0.9998788 ],\n",
       "       [0.9994972 ],\n",
       "       [0.98793745],\n",
       "       [0.8309585 ],\n",
       "       [0.5766076 ],\n",
       "       [0.92811656],\n",
       "       [0.9649744 ],\n",
       "       [0.9994288 ],\n",
       "       [0.99631107],\n",
       "       [0.8734702 ],\n",
       "       [0.9999239 ],\n",
       "       [0.9980415 ],\n",
       "       [0.9860897 ],\n",
       "       [0.98436534],\n",
       "       [0.9995408 ],\n",
       "       [0.9991035 ],\n",
       "       [0.8434975 ],\n",
       "       [0.9974958 ],\n",
       "       [0.99871916],\n",
       "       [0.9180031 ],\n",
       "       [0.6011162 ],\n",
       "       [0.9914122 ],\n",
       "       [0.99348485],\n",
       "       [0.9987898 ],\n",
       "       [0.87762415],\n",
       "       [0.9964886 ],\n",
       "       [0.99688697],\n",
       "       [0.9986397 ],\n",
       "       [0.9994984 ],\n",
       "       [0.6827378 ],\n",
       "       [0.98744273],\n",
       "       [0.95398486],\n",
       "       [0.99894416],\n",
       "       [0.9995235 ],\n",
       "       [0.99909616],\n",
       "       [0.99947   ],\n",
       "       [0.9866487 ],\n",
       "       [0.90789354],\n",
       "       [0.98802924],\n",
       "       [0.2958745 ],\n",
       "       [0.35999316],\n",
       "       [0.9993554 ],\n",
       "       [0.99817026],\n",
       "       [0.9927044 ],\n",
       "       [0.9999094 ],\n",
       "       [0.9375241 ],\n",
       "       [0.99614084],\n",
       "       [0.89717495],\n",
       "       [0.9991576 ],\n",
       "       [0.9978461 ],\n",
       "       [0.97294617],\n",
       "       [0.43570346],\n",
       "       [0.9997184 ],\n",
       "       [0.6004161 ]], dtype=float32)"
      ]
     },
     "execution_count": 10,
     "metadata": {},
     "output_type": "execute_result"
    }
   ],
   "source": [
    "model2.predict(X_tweet)"
   ]
  }
 ],
 "metadata": {
  "kernelspec": {
   "display_name": "Python 3 (ipykernel)",
   "language": "python",
   "name": "python3"
  },
  "language_info": {
   "codemirror_mode": {
    "name": "ipython",
    "version": 3
   },
   "file_extension": ".py",
   "mimetype": "text/x-python",
   "name": "python",
   "nbconvert_exporter": "python",
   "pygments_lexer": "ipython3",
   "version": "3.8.12"
  },
  "toc": {
   "base_numbering": 1,
   "nav_menu": {},
   "number_sections": true,
   "sideBar": true,
   "skip_h1_title": false,
   "title_cell": "Table of Contents",
   "title_sidebar": "Contents",
   "toc_cell": false,
   "toc_position": {},
   "toc_section_display": true,
   "toc_window_display": false
  },
  "varInspector": {
   "cols": {
    "lenName": 16,
    "lenType": 16,
    "lenVar": 40
   },
   "kernels_config": {
    "python": {
     "delete_cmd_postfix": "",
     "delete_cmd_prefix": "del ",
     "library": "var_list.py",
     "varRefreshCmd": "print(var_dic_list())"
    },
    "r": {
     "delete_cmd_postfix": ") ",
     "delete_cmd_prefix": "rm(",
     "library": "var_list.r",
     "varRefreshCmd": "cat(var_dic_list()) "
    }
   },
   "position": {
    "height": "411.844px",
    "left": "1070px",
    "right": "20px",
    "top": "120px",
    "width": "350px"
   },
   "types_to_exclude": [
    "module",
    "function",
    "builtin_function_or_method",
    "instance",
    "_Feature"
   ],
   "window_display": false
  }
 },
 "nbformat": 4,
 "nbformat_minor": 5
}
